{
 "cells": [
  {
   "cell_type": "code",
   "execution_count": 1,
   "outputs": [
    {
     "name": "stdout",
     "output_type": "stream",
     "text": [
      "Requirement already satisfied: html5lib in c:\\users\\jpc10\\ideaprojects\\untitled\\venv\\lib\\site-packages (1.1)\n",
      "Requirement already satisfied: six>=1.9 in c:\\users\\jpc10\\ideaprojects\\untitled\\venv\\lib\\site-packages (from html5lib) (1.16.0)\n",
      "Requirement already satisfied: webencodings in c:\\users\\jpc10\\ideaprojects\\untitled\\venv\\lib\\site-packages (from html5lib) (0.5.1)\n",
      "\n",
      "[notice] A new release of pip available: 22.1.2 -> 23.0\n",
      "[notice] To update, run: python.exe -m pip install --upgrade pip\n"
     ]
    }
   ],
   "source": [
    "import rows as rows\n",
    "!pip install html5lib"
   ],
   "metadata": {
    "collapsed": false,
    "pycharm": {
     "name": "#%%\n"
    }
   }
  },
  {
   "cell_type": "code",
   "execution_count": 8,
   "metadata": {
    "collapsed": true
   },
   "outputs": [
    {
     "name": "stdout",
     "output_type": "stream",
     "text": [
      "2\n",
      "\n",
      "\n",
      "tables[0]\n",
      "   Unnamed: 0  c0  c1  c2  c3\n",
      "0           0   0   1   4   7\n",
      "1           1   1   2   5   8\n",
      "2           2   2   3   6   9\n",
      "\n",
      "\n",
      "tables[1]\n",
      "         name  year        developer  opensource\n",
      "0       NumPy  2006  Travis Oliphant        True\n",
      "1  matplotlib  2003   John D. Hunter        True\n",
      "2      pandas  2008    Wes Mckinneye        True\n",
      "\n",
      "\n",
      "            year        developer  opensource\n",
      "name                                         \n",
      "NumPy       2006  Travis Oliphant        True\n",
      "matplotlib  2003   John D. Hunter        True\n",
      "pandas      2008    Wes Mckinneye        True\n"
     ]
    }
   ],
   "source": [
    "import pandas as pd\n",
    "import html5lib\n",
    "url='../data/part2/sample.html'\n",
    "\n",
    "#HTML 웹페이지의 table를 가져와서 df으로 변환\n",
    "tables=pd.read_html(url)\n",
    "print(len(tables))\n",
    "print('\\n')\n",
    "# tables 리스트의 원소를 iteration하면서 각각 화면 출력\n",
    "for i in range(len(tables)):\n",
    "    print(\"tables[%s]\" % i)\n",
    "    print(tables[i])\n",
    "    print('\\n')\n",
    "# 파이썬 패키지 정보가 들어 있는 두 번째 데이터프레임을 선택하여 df 변수에 저장\n",
    "df=tables[1]\n",
    "\n",
    "#name 열을 인덱스로 지정\n",
    "df.set_index(['name'], inplace=True)\n",
    "print(df)"
   ]
  },
  {
   "cell_type": "code",
   "execution_count": 5,
   "outputs": [
    {
     "name": "stdout",
     "output_type": "stream",
     "text": [
      "{}\n",
      "\n",
      "\n",
      "Empty DataFrame\n",
      "Columns: []\n",
      "Index: []\n"
     ]
    }
   ],
   "source": [
    "from bs4 import BeautifulSoup\n",
    "import requests\n",
    "import re\n",
    "import pandas as pd\n",
    "\n",
    "# 위키피디아 미국 ETF 웹 페이지에서 필요한 정보를 스크래핑하여 딕셔너리 형태로 변수 etfs에 저장\n",
    "\n",
    "url=\"https://en.wikipedia.org/wiki/List_of_American_exchange-traded_funds\"\n",
    "resp=requests.get(url)\n",
    "soup=BeautifulSoup(resp.text, 'lxml')\n",
    "rows=soup.select('div>ul>li')\n",
    "\n",
    "etfs={}\n",
    "for row in rows:\n",
    "\n",
    "    try:\n",
    "        etf_name=re.findall('^(.*)\\(NYSE', row.text)\n",
    "        etf_market=re.findall('\\((.*)\\|(.*)\\|', row.text)\n",
    "        etf_ticker=re.findall('NYSE Arca\\|(.*)\\)', row.text)\n",
    "\n",
    "        if (len(etf_ticker)>0)  & (len(etf_market) > 0) & (len(etf_name) > 0):\n",
    "            etfs[etf_ticker[0]]=[etf_market[0],etf_name[0]]\n",
    "    except AttributeError as err:\n",
    "        pass\n",
    "\n",
    "#etfs 딕셔너리 출력\n",
    "print(etfs)\n",
    "print('\\n')\n",
    "\n",
    "#etfs 딕셔너리를 데이터프레임으로 변환\n",
    "df=pd.DataFrame(etfs)\n",
    "print(df)"
   ],
   "metadata": {
    "collapsed": false,
    "pycharm": {
     "name": "#%%\n"
    }
   }
  },
  {
   "cell_type": "code",
   "execution_count": null,
   "outputs": [],
   "source": [],
   "metadata": {
    "collapsed": false,
    "pycharm": {
     "name": "#%%\n"
    }
   }
  }
 ],
 "metadata": {
  "kernelspec": {
   "display_name": "Python 3",
   "language": "python",
   "name": "python3"
  },
  "language_info": {
   "codemirror_mode": {
    "name": "ipython",
    "version": 2
   },
   "file_extension": ".py",
   "mimetype": "text/x-python",
   "name": "python",
   "nbconvert_exporter": "python",
   "pygments_lexer": "ipython2",
   "version": "2.7.6"
  }
 },
 "nbformat": 4,
 "nbformat_minor": 0
}