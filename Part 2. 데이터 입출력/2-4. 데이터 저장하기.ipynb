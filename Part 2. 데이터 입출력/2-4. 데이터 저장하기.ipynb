{
 "cells": [
  {
   "cell_type": "code",
   "execution_count": 2,
   "metadata": {
    "collapsed": true
   },
   "outputs": [
    {
     "name": "stdout",
     "output_type": "stream",
     "text": [
      "      algol basic c++\n",
      "name                 \n",
      "Jerry     A     C  B+\n",
      "Riah     A+     B   C\n",
      "Paul      B    B+  C+\n"
     ]
    }
   ],
   "source": [
    "import pandas as pd\n",
    "\n",
    "data={'name': ['Jerry', 'Riah', 'Paul'],\n",
    "      'algol': [\"A\", \"A+\", \"B\"],\n",
    "      'basic': [\"C\", \"B\", \"B+\"],\n",
    "      'c++': [\"B+\", \"C\", \"C+\"]\n",
    "      }\n",
    "\n",
    "df=pd.DataFrame(data)\n",
    "df.set_index('name', inplace=True) #name 열을 인덱스로 저장\n",
    "print(df)\n",
    "df.to_csv(\"./df_sample.csv\")"
   ]
  },
  {
   "cell_type": "code",
   "execution_count": 3,
   "outputs": [
    {
     "name": "stdout",
     "output_type": "stream",
     "text": [
      "      algol basic c++\n",
      "name                 \n",
      "Jerry     A     C  B+\n",
      "Riah     A+     B   C\n",
      "Paul      B    B+  C+\n"
     ]
    }
   ],
   "source": [
    "import pandas as pd\n",
    "\n",
    "data={'name': ['Jerry', 'Riah', 'Paul'],\n",
    "      'algol': [\"A\", \"A+\", \"B\"],\n",
    "      'basic': [\"C\", \"B\", \"B+\"],\n",
    "      'c++': [\"B+\", \"C\", \"C+\"]\n",
    "      }\n",
    "\n",
    "df=pd.DataFrame(data)\n",
    "df.set_index('name', inplace=True) #name 열을 인덱스로 저장\n",
    "print(df)\n",
    "\n",
    "df.to_csv(\"./df_sample.xlsx\")"
   ],
   "metadata": {
    "collapsed": false,
    "pycharm": {
     "name": "#%%\n"
    }
   }
  },
  {
   "cell_type": "code",
   "execution_count": 4,
   "outputs": [
    {
     "name": "stdout",
     "output_type": "stream",
     "text": [
      "      algol basic c++\n",
      "name                 \n",
      "Jerry     A     C  B+\n",
      "Riah     A+     B   C\n",
      "Paul      B    B+  C+\n"
     ]
    }
   ],
   "source": [
    "import pandas as pd\n",
    "\n",
    "data={'name': ['Jerry', 'Riah', 'Paul'],\n",
    "      'algol': [\"A\", \"A+\", \"B\"],\n",
    "      'basic': [\"C\", \"B\", \"B+\"],\n",
    "      'c++': [\"B+\", \"C\", \"C+\"]\n",
    "      }\n",
    "\n",
    "df=pd.DataFrame(data)\n",
    "df.set_index('name', inplace=True) #name 열을 인덱스로 저장\n",
    "print(df)\n",
    "\n",
    "df.to_csv(\"./df_sample.json\")"
   ],
   "metadata": {
    "collapsed": false,
    "pycharm": {
     "name": "#%%\n"
    }
   }
  },
  {
   "cell_type": "code",
   "execution_count": 6,
   "outputs": [
    {
     "name": "stdout",
     "output_type": "stream",
     "text": [
      "      algol basic c++\n",
      "name                 \n",
      "Jerry     A     C  B+\n",
      "Riah     A+     B   C\n",
      "Paul      B    B+  C+\n",
      "\n",
      "\n",
      "    c1  c2  c3  c4\n",
      "c0                \n",
      "1    4   7  10  13\n",
      "2    5   8  11  14\n",
      "3    6   9  12  15\n"
     ]
    }
   ],
   "source": [
    "data1={'name': ['Jerry', 'Riah', 'Paul'],\n",
    "      'algol': [\"A\", \"A+\", \"B\"],\n",
    "      'basic': [\"C\", \"B\", \"B+\"],\n",
    "      'c++': [\"B+\", \"C\", \"C+\"]\n",
    "      }\n",
    "data2={'c0':[1,2,3],\n",
    "       'c1':[4,5,6],\n",
    "       'c2':[7,8,9],\n",
    "       'c3':[10,11,12],\n",
    "       'c4':[13,14,15]}\n",
    "\n",
    "df1=pd.DataFrame(data1)\n",
    "df1.set_index('name', inplace=True) #name 열을 인덱스로 저장\n",
    "print(df1)\n",
    "\n",
    "print('\\n')\n",
    "\n",
    "df2=pd.DataFrame(data2)\n",
    "df2.set_index('c0', inplace=True) #c0열을 인덱스로 지정\n",
    "\n",
    "print(df2)\n",
    "\n",
    "# df1을 sheet 1으로, df1를 sheet2로 저장\n",
    "writer=pd.ExcelWriter(\"./df_excelwriter.xlsx\")\n",
    "df1.to_excel(writer, sheet_name='sheet1')\n",
    "df2.to_excel(writer, sheet_name='sheet2')\n",
    "writer.save()"
   ],
   "metadata": {
    "collapsed": false,
    "pycharm": {
     "name": "#%%\n"
    }
   }
  },
  {
   "cell_type": "code",
   "execution_count": null,
   "outputs": [],
   "source": [],
   "metadata": {
    "collapsed": false,
    "pycharm": {
     "name": "#%%\n"
    }
   }
  }
 ],
 "metadata": {
  "kernelspec": {
   "display_name": "Python 3",
   "language": "python",
   "name": "python3"
  },
  "language_info": {
   "codemirror_mode": {
    "name": "ipython",
    "version": 2
   },
   "file_extension": ".py",
   "mimetype": "text/x-python",
   "name": "python",
   "nbconvert_exporter": "python",
   "pygments_lexer": "ipython2",
   "version": "2.7.6"
  }
 },
 "nbformat": 4,
 "nbformat_minor": 0
}